{
 "cells": [
  {
   "cell_type": "code",
   "execution_count": 13,
   "metadata": {},
   "outputs": [],
   "source": [
    "import unicodedata\n",
    "import re"
   ]
  },
  {
   "cell_type": "code",
   "execution_count": 5,
   "metadata": {},
   "outputs": [],
   "source": [
    "with open('統計学入門01.md', mode='r', encoding='utf-8') as f:\n",
    "    data = f.read()\n"
   ]
  },
  {
   "cell_type": "code",
   "execution_count": 19,
   "metadata": {},
   "outputs": [
    {
     "data": {
      "text/plain": [
       "'第1章 統計学の基礎\\n1.1統計学とは\\n1.2統計データと統計手法\\n1.3統計データの分析プロセス\\n練習問題\\n第2章 1次元のデータ\\n2.1度数分布とヒストグラム\\n2.2代表値\\n2.3散らばりの尺度\\n練習問題 第3章2次元のデータ\\n3.12 次元のデータとは\\n3.2散布図と分割表\\n3.3相関係数\\n3.4直線および平面のあてはめ\\n練習問題\\n第4章 確率\\n4.1ランダムネスと確率\\n4.2標本空間と事象\\n4.3確率の定義\\n4.4加法定理\\n4.5条件付確率と独立性\\n練習問題\\n第5章 確率変数\\n5.1確率変数と確率分布\\n5.2確率変数の期待値と分散\\n5.3モーメントとモーメント母関数\\n5.4チェビシェフの不等式\\n5.5確率変数の変換\\n練習問題\\n第6章 確率分布\\n6.1超幾何分布\\n6.2二項分布とベルヌーイ分布\\n6.3ポアソン分布\\n6.4幾何分布と負の二項分布\\n6.5一様分布\\n6.6正規分布\\n6.7指数分布\\n6.8ガンマ分布\\n6.9ベータ分布と一様分布\\n6.10ゴーシー分布\\n6.11対数正規分布\\n6.12\\n6.13ワイブル分布\\n[付節] モーメント母関数による証明\\n練習問題\\n第7章 多次元の確率分布\\n7.1同時確率分布と周辺確率分布\\n7.2条件付確率分布と独立な確率変数\\n7.3多次元正規分布\\n7.4独立な確率変数の和\\n[付節] 数学的証明\\n練習問題\\n第8章 大数の法則と中心極限定理\\n8.1大数の法則\\n8.2中心極限定理\\n8.3中心極限定理の応用\\n練習問題\\n第9章 標本分布\\n9.1母集団と標本\\n9.2母数と統計量\\n9.3統計量の標本分布\\n9.4有限母集団と有限母集団修正\\n練習問題 第10章正規分布からの標本\\n10.1正規分布の性質\\n10.2分散が既知のときの標本平均の標本分布\\n10.3標本分散の標本分布\\n10.4分散が未知のときの標本平均の標本分布\\n10.510.6標本相関係数の標本分布\\n練習問題\\n第11章 推定\\n11.1点推定と区間推定\\n11.2点推定の考え方とその手順\\n11.3点推定の基準\\n11.4点推定の例\\n11.5区間推定\\n練習問題\\n第12章 仮説検定\\n12.1検定の考え方\\n12.2正規母集団に対する仮説検定\\n12.312.4中心極限定理を用いる検定\\n12.5検出力\\n練習問題\\n第13章 回帰分析\\n13.1回帰分析\\n13.2回帰係数の推定\\n13.3偏回帰係数の統計的推測\\n13.4重回帰分析\\n[付節]\\nガウス・マルコフの定理の証明\\n練習問題\\n統計数値表\\n練習問題の解答\\n参考文献\\n索引'"
      ]
     },
     "execution_count": 19,
     "metadata": {},
     "output_type": "execute_result"
    }
   ],
   "source": [
    "re_data = unicodedata.normalize('NFKC', data)\n",
    "re_data"
   ]
  },
  {
   "cell_type": "code",
   "execution_count": 11,
   "metadata": {},
   "outputs": [],
   "source": [
    "with open('統計学入門01_re.md', mode='w', encoding='utf-8') as f:\n",
    "    re_data = unicodedata.normalize('NFKC', data)\n",
    "    f.write(re_data)"
   ]
  },
  {
   "cell_type": "code",
   "execution_count": null,
   "metadata": {},
   "outputs": [],
   "source": []
  }
 ],
 "metadata": {
  "kernelspec": {
   "display_name": "Python 3",
   "language": "python",
   "name": "python3"
  },
  "language_info": {
   "codemirror_mode": {
    "name": "ipython",
    "version": 3
   },
   "file_extension": ".py",
   "mimetype": "text/x-python",
   "name": "python",
   "nbconvert_exporter": "python",
   "pygments_lexer": "ipython3",
   "version": "3.11.9"
  }
 },
 "nbformat": 4,
 "nbformat_minor": 2
}
